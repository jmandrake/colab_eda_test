{
  "nbformat": 4,
  "nbformat_minor": 0,
  "metadata": {
    "colab": {
      "provenance": [],
      "authorship_tag": "ABX9TyNOftf6NFzI6QTKLzmcleJF",
      "include_colab_link": true
    },
    "kernelspec": {
      "name": "python3",
      "display_name": "Python 3"
    },
    "language_info": {
      "name": "python"
    }
  },
  "cells": [
    {
      "cell_type": "markdown",
      "metadata": {
        "id": "view-in-github",
        "colab_type": "text"
      },
      "source": [
        "<a href=\"https://colab.research.google.com/github/jmandrake/colab_eda_test/blob/main/colab_explore_data.ipynb\" target=\"_parent\"><img src=\"https://colab.research.google.com/assets/colab-badge.svg\" alt=\"Open In Colab\"/></a>"
      ]
    },
    {
      "cell_type": "markdown",
      "source": [
        "# 1) Ingest Data\n",
        "Download dataset and clean files"
      ],
      "metadata": {
        "id": "z_yaU2QyTUtB"
      }
    },
    {
      "cell_type": "code",
      "execution_count": 1,
      "metadata": {
        "colab": {
          "base_uri": "https://localhost:8080/"
        },
        "id": "_tcKq9EISR8J",
        "outputId": "f8d81a20-a1d9-48b1-ac25-27e178f22214"
      },
      "outputs": [
        {
          "output_type": "stream",
          "name": "stdout",
          "text": [
            "rm: cannot remove '*.zip': No such file or directory\n",
            "--2022-12-26 07:18:40--  https://raw.githubusercontent.com/jmandrake/colab_eda_test/main/healthcare_dataset.zip\n",
            "Resolving raw.githubusercontent.com (raw.githubusercontent.com)... 185.199.108.133, 185.199.109.133, 185.199.110.133, ...\n",
            "Connecting to raw.githubusercontent.com (raw.githubusercontent.com)|185.199.108.133|:443... connected.\n",
            "HTTP request sent, awaiting response... 200 OK\n",
            "Length: 20747741 (20M) [application/zip]\n",
            "Saving to: ‘healthcare_dataset.zip’\n",
            "\n",
            "healthcare_dataset. 100%[===================>]  19.79M  --.-KB/s    in 0.1s    \n",
            "\n",
            "2022-12-26 07:18:41 (148 MB/s) - ‘healthcare_dataset.zip’ saved [20747741/20747741]\n",
            "\n"
          ]
        }
      ],
      "source": [
        "# clean up and download datasets\n",
        "!rm *.zip\n",
        "!rm *.csv\n",
        "!wget https://raw.githubusercontent.com/jmandrake/colab_eda_test/main/healthcare_dataset.zip\n",
        "# !wget https://raw.githubusercontent.com/jmandrake/colab_eda_test/main/housing_archive.zip\n",
        "# !wget https://raw.githubusercontent.com/jmandrake/colab_eda_test/main/la_county_restaurant_inspections_archive.zip"
      ]
    },
    {
      "cell_type": "code",
      "source": [
        "!unzip \"healthcare_dataset.zip\""
      ],
      "metadata": {
        "colab": {
          "base_uri": "https://localhost:8080/"
        },
        "id": "7Y_wHRRyTDtv",
        "outputId": "281accc4-aaac-4bd5-dc9a-214170d7c169"
      },
      "execution_count": 2,
      "outputs": [
        {
          "output_type": "stream",
          "name": "stdout",
          "text": [
            "Archive:  healthcare_dataset.zip\n",
            "  inflating: Inpatient_Pat.csv       \n",
            "  inflating: Inpatient_provdr.csv    \n",
            "  inflating: Outpatient_Pat.csv      \n",
            "  inflating: Outpatient_provdr.csv   \n",
            "  inflating: Patient_history_samp.csv  \n",
            "  inflating: Review_patient_history_samp.csv  \n",
            "  inflating: Rreview_transaction_coo.csv  \n",
            "  inflating: Transaction_coo.csv     \n"
          ]
        }
      ]
    },
    {
      "cell_type": "code",
      "source": [
        "import pandas as pd\n",
        "\n",
        "df_inpatient = pd.read_csv('Inpatient_Pat.csv')\n",
        "df_inpatient.head()\n",
        "# df_inpatient.shape\n",
        "# df_inpatient.columns\n"
      ],
      "metadata": {
        "colab": {
          "base_uri": "https://localhost:8080/",
          "height": 213
        },
        "id": "B9UgLgXgUH3R",
        "outputId": "b5864ba6-4aef-45bd-a959-feaacf43c1b1"
      },
      "execution_count": 16,
      "outputs": [
        {
          "output_type": "execute_result",
          "data": {
            "text/plain": [
              "                                      DRG Definition  Total Discharges  \\\n",
              "0           039 - EXTRACRANIAL PROCEDURES W/O CC/MCC             37861   \n",
              "1  057 - DEGENERATIVE NERVOUS SYSTEM DISORDERS W/...             37927   \n",
              "2  064 - INTRACRANIAL HEMORRHAGE OR CEREBRAL INFA...             68163   \n",
              "3  065 - INTRACRANIAL HEMORRHAGE OR CEREBRAL INFA...            110983   \n",
              "4  066 - INTRACRANIAL HEMORRHAGE OR CEREBRAL INFA...             62346   \n",
              "\n",
              "   Average Covered Charges  Average Total Payments  Average Medicare Payments  \n",
              "0              29228.55368             6902.381289                5514.435910  \n",
              "1              23924.98059             6809.799325                5791.920242  \n",
              "2              49186.95644            13614.616130               12415.825360  \n",
              "3              30371.27399             8037.269492                6858.689088  \n",
              "4              23300.06199             5762.881821                4508.202659  "
            ],
            "text/html": [
              "\n",
              "  <div id=\"df-e59b1523-8bc9-4b54-8871-07b6bacaea98\">\n",
              "    <div class=\"colab-df-container\">\n",
              "      <div>\n",
              "<style scoped>\n",
              "    .dataframe tbody tr th:only-of-type {\n",
              "        vertical-align: middle;\n",
              "    }\n",
              "\n",
              "    .dataframe tbody tr th {\n",
              "        vertical-align: top;\n",
              "    }\n",
              "\n",
              "    .dataframe thead th {\n",
              "        text-align: right;\n",
              "    }\n",
              "</style>\n",
              "<table border=\"1\" class=\"dataframe\">\n",
              "  <thead>\n",
              "    <tr style=\"text-align: right;\">\n",
              "      <th></th>\n",
              "      <th>DRG Definition</th>\n",
              "      <th>Total Discharges</th>\n",
              "      <th>Average Covered Charges</th>\n",
              "      <th>Average Total Payments</th>\n",
              "      <th>Average Medicare Payments</th>\n",
              "    </tr>\n",
              "  </thead>\n",
              "  <tbody>\n",
              "    <tr>\n",
              "      <th>0</th>\n",
              "      <td>039 - EXTRACRANIAL PROCEDURES W/O CC/MCC</td>\n",
              "      <td>37861</td>\n",
              "      <td>29228.55368</td>\n",
              "      <td>6902.381289</td>\n",
              "      <td>5514.435910</td>\n",
              "    </tr>\n",
              "    <tr>\n",
              "      <th>1</th>\n",
              "      <td>057 - DEGENERATIVE NERVOUS SYSTEM DISORDERS W/...</td>\n",
              "      <td>37927</td>\n",
              "      <td>23924.98059</td>\n",
              "      <td>6809.799325</td>\n",
              "      <td>5791.920242</td>\n",
              "    </tr>\n",
              "    <tr>\n",
              "      <th>2</th>\n",
              "      <td>064 - INTRACRANIAL HEMORRHAGE OR CEREBRAL INFA...</td>\n",
              "      <td>68163</td>\n",
              "      <td>49186.95644</td>\n",
              "      <td>13614.616130</td>\n",
              "      <td>12415.825360</td>\n",
              "    </tr>\n",
              "    <tr>\n",
              "      <th>3</th>\n",
              "      <td>065 - INTRACRANIAL HEMORRHAGE OR CEREBRAL INFA...</td>\n",
              "      <td>110983</td>\n",
              "      <td>30371.27399</td>\n",
              "      <td>8037.269492</td>\n",
              "      <td>6858.689088</td>\n",
              "    </tr>\n",
              "    <tr>\n",
              "      <th>4</th>\n",
              "      <td>066 - INTRACRANIAL HEMORRHAGE OR CEREBRAL INFA...</td>\n",
              "      <td>62346</td>\n",
              "      <td>23300.06199</td>\n",
              "      <td>5762.881821</td>\n",
              "      <td>4508.202659</td>\n",
              "    </tr>\n",
              "  </tbody>\n",
              "</table>\n",
              "</div>\n",
              "      <button class=\"colab-df-convert\" onclick=\"convertToInteractive('df-e59b1523-8bc9-4b54-8871-07b6bacaea98')\"\n",
              "              title=\"Convert this dataframe to an interactive table.\"\n",
              "              style=\"display:none;\">\n",
              "        \n",
              "  <svg xmlns=\"http://www.w3.org/2000/svg\" height=\"24px\"viewBox=\"0 0 24 24\"\n",
              "       width=\"24px\">\n",
              "    <path d=\"M0 0h24v24H0V0z\" fill=\"none\"/>\n",
              "    <path d=\"M18.56 5.44l.94 2.06.94-2.06 2.06-.94-2.06-.94-.94-2.06-.94 2.06-2.06.94zm-11 1L8.5 8.5l.94-2.06 2.06-.94-2.06-.94L8.5 2.5l-.94 2.06-2.06.94zm10 10l.94 2.06.94-2.06 2.06-.94-2.06-.94-.94-2.06-.94 2.06-2.06.94z\"/><path d=\"M17.41 7.96l-1.37-1.37c-.4-.4-.92-.59-1.43-.59-.52 0-1.04.2-1.43.59L10.3 9.45l-7.72 7.72c-.78.78-.78 2.05 0 2.83L4 21.41c.39.39.9.59 1.41.59.51 0 1.02-.2 1.41-.59l7.78-7.78 2.81-2.81c.8-.78.8-2.07 0-2.86zM5.41 20L4 18.59l7.72-7.72 1.47 1.35L5.41 20z\"/>\n",
              "  </svg>\n",
              "      </button>\n",
              "      \n",
              "  <style>\n",
              "    .colab-df-container {\n",
              "      display:flex;\n",
              "      flex-wrap:wrap;\n",
              "      gap: 12px;\n",
              "    }\n",
              "\n",
              "    .colab-df-convert {\n",
              "      background-color: #E8F0FE;\n",
              "      border: none;\n",
              "      border-radius: 50%;\n",
              "      cursor: pointer;\n",
              "      display: none;\n",
              "      fill: #1967D2;\n",
              "      height: 32px;\n",
              "      padding: 0 0 0 0;\n",
              "      width: 32px;\n",
              "    }\n",
              "\n",
              "    .colab-df-convert:hover {\n",
              "      background-color: #E2EBFA;\n",
              "      box-shadow: 0px 1px 2px rgba(60, 64, 67, 0.3), 0px 1px 3px 1px rgba(60, 64, 67, 0.15);\n",
              "      fill: #174EA6;\n",
              "    }\n",
              "\n",
              "    [theme=dark] .colab-df-convert {\n",
              "      background-color: #3B4455;\n",
              "      fill: #D2E3FC;\n",
              "    }\n",
              "\n",
              "    [theme=dark] .colab-df-convert:hover {\n",
              "      background-color: #434B5C;\n",
              "      box-shadow: 0px 1px 3px 1px rgba(0, 0, 0, 0.15);\n",
              "      filter: drop-shadow(0px 1px 2px rgba(0, 0, 0, 0.3));\n",
              "      fill: #FFFFFF;\n",
              "    }\n",
              "  </style>\n",
              "\n",
              "      <script>\n",
              "        const buttonEl =\n",
              "          document.querySelector('#df-e59b1523-8bc9-4b54-8871-07b6bacaea98 button.colab-df-convert');\n",
              "        buttonEl.style.display =\n",
              "          google.colab.kernel.accessAllowed ? 'block' : 'none';\n",
              "\n",
              "        async function convertToInteractive(key) {\n",
              "          const element = document.querySelector('#df-e59b1523-8bc9-4b54-8871-07b6bacaea98');\n",
              "          const dataTable =\n",
              "            await google.colab.kernel.invokeFunction('convertToInteractive',\n",
              "                                                     [key], {});\n",
              "          if (!dataTable) return;\n",
              "\n",
              "          const docLinkHtml = 'Like what you see? Visit the ' +\n",
              "            '<a target=\"_blank\" href=https://colab.research.google.com/notebooks/data_table.ipynb>data table notebook</a>'\n",
              "            + ' to learn more about interactive tables.';\n",
              "          element.innerHTML = '';\n",
              "          dataTable['output_type'] = 'display_data';\n",
              "          await google.colab.output.renderOutput(dataTable, element);\n",
              "          const docLink = document.createElement('div');\n",
              "          docLink.innerHTML = docLinkHtml;\n",
              "          element.appendChild(docLink);\n",
              "        }\n",
              "      </script>\n",
              "    </div>\n",
              "  </div>\n",
              "  "
            ]
          },
          "metadata": {},
          "execution_count": 16
        }
      ]
    },
    {
      "cell_type": "code",
      "source": [
        "df_outpatient = pd.read_csv('Outpatient_Pat.csv')\n",
        "# df_outpatient.head()\n",
        "df_outpatient.shape"
      ],
      "metadata": {
        "colab": {
          "base_uri": "https://localhost:8080/"
        },
        "id": "U5w79LDTUxB2",
        "outputId": "d069bb88-e784-41a4-a865-8d646b14dd08"
      },
      "execution_count": 14,
      "outputs": [
        {
          "output_type": "execute_result",
          "data": {
            "text/plain": [
              "(30, 4)"
            ]
          },
          "metadata": {},
          "execution_count": 14
        }
      ]
    }
  ]
}
